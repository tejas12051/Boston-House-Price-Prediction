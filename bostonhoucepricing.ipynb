{
 "cells": [
  {
   "cell_type": "code",
   "execution_count": 1,
   "id": "a8d168b3",
   "metadata": {},
   "outputs": [
    {
     "ename": "ModuleNotFoundError",
     "evalue": "No module named 'matplotlib'",
     "output_type": "error",
     "traceback": [
      "\u001b[1;31m---------------------------------------------------------------------------\u001b[0m",
      "\u001b[1;31mModuleNotFoundError\u001b[0m                       Traceback (most recent call last)",
      "\u001b[1;32m~\\AppData\\Local\\Temp\\ipykernel_7336\\3774146434.py\u001b[0m in \u001b[0;36m<module>\u001b[1;34m\u001b[0m\n\u001b[0;32m      1\u001b[0m \u001b[1;32mimport\u001b[0m \u001b[0mnumpy\u001b[0m \u001b[1;32mas\u001b[0m \u001b[0mnp\u001b[0m\u001b[1;33m\u001b[0m\u001b[1;33m\u001b[0m\u001b[0m\n\u001b[0;32m      2\u001b[0m \u001b[1;32mimport\u001b[0m \u001b[0mpandas\u001b[0m \u001b[1;32mas\u001b[0m \u001b[0mpd\u001b[0m\u001b[1;33m\u001b[0m\u001b[1;33m\u001b[0m\u001b[0m\n\u001b[1;32m----> 3\u001b[1;33m \u001b[1;32mfrom\u001b[0m \u001b[0mmatplotlib\u001b[0m \u001b[1;32mimport\u001b[0m \u001b[0mpyplot\u001b[0m \u001b[1;32mas\u001b[0m \u001b[0mplt\u001b[0m \u001b[1;31m# import matplotlib.pyplot as plt\u001b[0m\u001b[1;33m\u001b[0m\u001b[1;33m\u001b[0m\u001b[0m\n\u001b[0m\u001b[0;32m      4\u001b[0m \u001b[0mget_ipython\u001b[0m\u001b[1;33m(\u001b[0m\u001b[1;33m)\u001b[0m\u001b[1;33m.\u001b[0m\u001b[0mrun_line_magic\u001b[0m\u001b[1;33m(\u001b[0m\u001b[1;34m'matplotlib'\u001b[0m\u001b[1;33m,\u001b[0m \u001b[1;34m'inline'\u001b[0m\u001b[1;33m)\u001b[0m\u001b[1;33m\u001b[0m\u001b[1;33m\u001b[0m\u001b[0m\n\u001b[0;32m      5\u001b[0m \u001b[1;32mimport\u001b[0m \u001b[0mseaborn\u001b[0m \u001b[1;32mas\u001b[0m \u001b[0msns\u001b[0m\u001b[1;33m\u001b[0m\u001b[1;33m\u001b[0m\u001b[0m\n",
      "\u001b[1;31mModuleNotFoundError\u001b[0m: No module named 'matplotlib'"
     ]
    }
   ],
   "source": [
    "import numpy as np\n",
    "import pandas as pd\n",
    "import matplotlib.pyplot as plt # import matplotlib.pyplot as plt\n",
    "%matplotlib inline\n",
    "import seaborn as sns"
   ]
  },
  {
   "cell_type": "markdown",
   "id": "7d34347e",
   "metadata": {},
   "source": [
    "## Load boston house data"
   ]
  },
  {
   "cell_type": "code",
   "execution_count": null,
   "id": "b87ed59b",
   "metadata": {},
   "outputs": [],
   "source": [
    "from sklearn.datasets import load_boston"
   ]
  },
  {
   "cell_type": "code",
   "execution_count": null,
   "id": "074b9ff3",
   "metadata": {},
   "outputs": [],
   "source": [
    "boston = load_boston()"
   ]
  },
  {
   "cell_type": "code",
   "execution_count": null,
   "id": "ae208134",
   "metadata": {},
   "outputs": [],
   "source": [
    "boston.keys()"
   ]
  },
  {
   "cell_type": "code",
   "execution_count": null,
   "id": "1d7b9d11",
   "metadata": {},
   "outputs": [],
   "source": [
    "# description of dataset\n",
    "\n",
    "print(boston.DESCR)"
   ]
  },
  {
   "cell_type": "code",
   "execution_count": null,
   "id": "05b63682",
   "metadata": {},
   "outputs": [],
   "source": [
    "print(boston.data)"
   ]
  },
  {
   "cell_type": "code",
   "execution_count": null,
   "id": "3f26eda2",
   "metadata": {},
   "outputs": [],
   "source": [
    "print(boston.target)"
   ]
  },
  {
   "cell_type": "code",
   "execution_count": null,
   "id": "19a93de5",
   "metadata": {},
   "outputs": [],
   "source": [
    "print(boston.filename)"
   ]
  },
  {
   "cell_type": "code",
   "execution_count": null,
   "id": "93f0372c",
   "metadata": {},
   "outputs": [],
   "source": [
    "print(boston.feature_names)"
   ]
  },
  {
   "cell_type": "markdown",
   "id": "ea172a82",
   "metadata": {},
   "source": [
    "## Preparing the data"
   ]
  },
  {
   "cell_type": "code",
   "execution_count": null,
   "id": "4d03708b",
   "metadata": {},
   "outputs": [],
   "source": [
    "dataset = pd.DataFrame(boston.data,columns = boston.feature_names)\n",
    "dataset.head()"
   ]
  },
  {
   "cell_type": "code",
   "execution_count": null,
   "id": "0f18fe08",
   "metadata": {},
   "outputs": [],
   "source": [
    "dataset['Price'] = boston.target"
   ]
  },
  {
   "cell_type": "code",
   "execution_count": null,
   "id": "d4cc94fa",
   "metadata": {},
   "outputs": [],
   "source": [
    "dataset.head()"
   ]
  },
  {
   "cell_type": "code",
   "execution_count": null,
   "id": "2023f578",
   "metadata": {},
   "outputs": [],
   "source": [
    "dataset.info()"
   ]
  },
  {
   "cell_type": "code",
   "execution_count": null,
   "id": "ee307939",
   "metadata": {},
   "outputs": [],
   "source": [
    "dataset.isnull().sum()"
   ]
  },
  {
   "cell_type": "code",
   "execution_count": null,
   "id": "73b06ded",
   "metadata": {},
   "outputs": [],
   "source": [
    "dataset.describe().T"
   ]
  },
  {
   "cell_type": "code",
   "execution_count": null,
   "id": "4cd7c8ee",
   "metadata": {},
   "outputs": [],
   "source": [
    "#Exploratory data analysis\n",
    "# correlation\n",
    "dataset.corr()"
   ]
  },
  {
   "cell_type": "code",
   "execution_count": null,
   "id": "f59e2951",
   "metadata": {},
   "outputs": [],
   "source": [
    "sns.pairplot(dataset)"
   ]
  },
  {
   "cell_type": "code",
   "execution_count": null,
   "id": "40bc7666",
   "metadata": {},
   "outputs": [],
   "source": [
    "plt.scatter(dataset['CRIM'], dataset['Price'])\n",
    "plt.xlabel(\"Crime rate\")\n",
    "plt.ylabel('Price')"
   ]
  },
  {
   "cell_type": "code",
   "execution_count": null,
   "id": "2d4ef681",
   "metadata": {},
   "outputs": [],
   "source": [
    "plt.scatter(dataset[\"RM\"], dataset[\"Price\"])\n",
    "plt.xlabel('RM')\n",
    "plt.ylabel('Price')"
   ]
  },
  {
   "cell_type": "code",
   "execution_count": null,
   "id": "0f0870b9",
   "metadata": {},
   "outputs": [],
   "source": [
    "sns.regplot(x='RM', y='Price', data = dataset)"
   ]
  },
  {
   "cell_type": "code",
   "execution_count": null,
   "id": "26d15f1a",
   "metadata": {},
   "outputs": [],
   "source": [
    "sns.regplot(x='LSTAT', y='Price', data = dataset)"
   ]
  },
  {
   "cell_type": "code",
   "execution_count": null,
   "id": "42a8bdca",
   "metadata": {},
   "outputs": [],
   "source": [
    "sns.regplot(x= \"CHAS\", y= 'Price', data = dataset)"
   ]
  },
  {
   "cell_type": "code",
   "execution_count": null,
   "id": "ef198590",
   "metadata": {},
   "outputs": [],
   "source": [
    "sns.regplot(x=\"PTRATIO\",y=\"Price\",data=dataset)\n"
   ]
  },
  {
   "cell_type": "code",
   "execution_count": null,
   "id": "1ae11067",
   "metadata": {},
   "outputs": [],
   "source": [
    "# Independent and dependent feature\n",
    "\n",
    "# x = dataset.drop(['Price'], axis = 'columns')\n",
    "# y = dataset(['Price'])"
   ]
  },
  {
   "cell_type": "code",
   "execution_count": null,
   "id": "0317a3b0",
   "metadata": {},
   "outputs": [],
   "source": [
    "x=dataset.iloc[:,:-1]\n",
    "y=dataset.iloc[:,-1]"
   ]
  },
  {
   "cell_type": "code",
   "execution_count": null,
   "id": "1f4b98a3",
   "metadata": {},
   "outputs": [],
   "source": [
    "print(x.head(5))\n",
    "\n",
    "print(y.head(5))"
   ]
  },
  {
   "cell_type": "code",
   "execution_count": null,
   "id": "5b877fb6",
   "metadata": {},
   "outputs": [],
   "source": [
    "# train_test split\n",
    "from sklearn.model_selection import train_test_split\n",
    "x_train,x_test,y_train,y_test=train_test_split(x,y,test_size=0.3,random_state=42)"
   ]
  },
  {
   "cell_type": "code",
   "execution_count": null,
   "id": "d3dc6e59",
   "metadata": {},
   "outputs": [],
   "source": [
    "print(len(x_train))\n",
    "print(len(x_test))"
   ]
  },
  {
   "cell_type": "code",
   "execution_count": null,
   "id": "863de2cf",
   "metadata": {},
   "outputs": [],
   "source": [
    "#stadardize the dataset\n",
    "from sklearn.preprocessing import StandardScaler\n",
    "scaler = StandardScaler()"
   ]
  },
  {
   "cell_type": "code",
   "execution_count": null,
   "id": "7667beb0",
   "metadata": {},
   "outputs": [],
   "source": [
    "x_train = scaler.fit_transform(x_train)"
   ]
  },
  {
   "cell_type": "code",
   "execution_count": null,
   "id": "e2e48e65",
   "metadata": {},
   "outputs": [],
   "source": [
    "x_test = scaler.transform(x_test)"
   ]
  },
  {
   "cell_type": "code",
   "execution_count": null,
   "id": "80af8875",
   "metadata": {},
   "outputs": [],
   "source": [
    "x_train"
   ]
  },
  {
   "cell_type": "code",
   "execution_count": null,
   "id": "5cfd40a0",
   "metadata": {},
   "outputs": [],
   "source": [
    "x_test"
   ]
  },
  {
   "cell_type": "markdown",
   "id": "f4b25982",
   "metadata": {},
   "source": [
    "## Model training\n"
   ]
  },
  {
   "cell_type": "code",
   "execution_count": null,
   "id": "d0597ab4",
   "metadata": {},
   "outputs": [],
   "source": [
    "from sklearn.linear_model import LinearRegression"
   ]
  },
  {
   "cell_type": "code",
   "execution_count": null,
   "id": "f4025845",
   "metadata": {},
   "outputs": [],
   "source": [
    "model1 = LinearRegression()"
   ]
  },
  {
   "cell_type": "code",
   "execution_count": null,
   "id": "aa9b3d07",
   "metadata": {},
   "outputs": [],
   "source": [
    "model1.fit(x_train,y_train)"
   ]
  },
  {
   "cell_type": "code",
   "execution_count": null,
   "id": "1da1913b",
   "metadata": {},
   "outputs": [],
   "source": [
    "#print the coefficient and intercept\n",
    "\n",
    "print(model1.coef_)"
   ]
  },
  {
   "cell_type": "code",
   "execution_count": null,
   "id": "d219ae7a",
   "metadata": {},
   "outputs": [],
   "source": [
    "print(model1.intercept_)"
   ]
  },
  {
   "cell_type": "code",
   "execution_count": null,
   "id": "f049462f",
   "metadata": {},
   "outputs": [],
   "source": [
    "print(model1.get_params())"
   ]
  },
  {
   "cell_type": "code",
   "execution_count": null,
   "id": "59a963c1",
   "metadata": {},
   "outputs": [],
   "source": [
    "## prediction with test data\n",
    "\n",
    "y_pred = model1.predict(x_test)"
   ]
  },
  {
   "cell_type": "code",
   "execution_count": null,
   "id": "6e65d98a",
   "metadata": {},
   "outputs": [],
   "source": [
    "y_pred"
   ]
  },
  {
   "cell_type": "markdown",
   "id": "763a421d",
   "metadata": {},
   "source": [
    "## Assumption"
   ]
  },
  {
   "cell_type": "code",
   "execution_count": null,
   "id": "adfafd67",
   "metadata": {},
   "outputs": [],
   "source": [
    "# plot a scatter plot for prediction\n",
    "plt.scatter(y_test, y_pred)\n",
    "plt.xlabel('price')\n",
    "plt.ylabel('predicted price')\n",
    "plt.show()"
   ]
  },
  {
   "cell_type": "code",
   "execution_count": null,
   "id": "f9ebcf53",
   "metadata": {},
   "outputs": [],
   "source": []
  },
  {
   "cell_type": "code",
   "execution_count": null,
   "id": "c584f252",
   "metadata": {},
   "outputs": [],
   "source": [
    "# residuals\n",
    "residuals = y_test-y_pred\n",
    "residuals"
   ]
  },
  {
   "cell_type": "code",
   "execution_count": null,
   "id": "ef2f412f",
   "metadata": {},
   "outputs": [],
   "source": [
    "# plot this residuals\n",
    "sns.displot(residuals, kind='kde')"
   ]
  },
  {
   "cell_type": "code",
   "execution_count": null,
   "id": "0921990f",
   "metadata": {},
   "outputs": [],
   "source": [
    "# scatter plot with respect to prediction and residuals\n",
    "# uniform distribution\n",
    "plt.scatter(y_pred, residuals)"
   ]
  },
  {
   "cell_type": "code",
   "execution_count": null,
   "id": "72fbc2fd",
   "metadata": {},
   "outputs": [],
   "source": [
    "from sklearn.metrics import mean_squared_error\n",
    "from sklearn.metrics import mean_absolute_error\n",
    "\n",
    "print(\"MSE : \",(mean_squared_error(y_test,y_pred)))\n",
    "print(\"MAE : \",(mean_absolute_error(y_test,y_pred)))\n",
    "print(\"MSE SQ.ROOT : \",(np.sqrt(mean_squared_error(y_test,y_pred))))\n",
    "      "
   ]
  },
  {
   "cell_type": "markdown",
   "id": "7900507c",
   "metadata": {},
   "source": [
    "## R square and adjusted R square"
   ]
  },
  {
   "cell_type": "code",
   "execution_count": null,
   "id": "80a3e74f",
   "metadata": {},
   "outputs": [],
   "source": [
    "from sklearn.metrics import r2_score\n",
    "rscore = r2_score(y_test,y_pred)*100\n",
    "print('R2_Score : ',rscore)"
   ]
  },
  {
   "cell_type": "markdown",
   "id": "664c356e",
   "metadata": {},
   "source": [
    "### Adjusted R2 = 1-[(1-R2)*(n-1)/(n-k-1)]\n",
    "\n",
    "where,\n",
    "\n",
    "R2 : The r2 of model,\n",
    "n : Number of observation,\n",
    "k : The number of predictor variables"
   ]
  },
  {
   "cell_type": "code",
   "execution_count": null,
   "id": "81646235",
   "metadata": {},
   "outputs": [],
   "source": [
    "# display adjuster r square\n",
    "1 - (1-rscore)*(len(y_test)-1)/(len(y_test)-x_test.shape[1]-1)"
   ]
  },
  {
   "cell_type": "markdown",
   "id": "5cd5f026",
   "metadata": {},
   "source": [
    "## New Data Prediction"
   ]
  },
  {
   "cell_type": "code",
   "execution_count": null,
   "id": "51991a74",
   "metadata": {},
   "outputs": [],
   "source": [
    "boston.data[0].reshape(1,-1)"
   ]
  },
  {
   "cell_type": "code",
   "execution_count": null,
   "id": "2954ee16",
   "metadata": {},
   "outputs": [],
   "source": [
    "##transformation of new data\n",
    "scaler.transform(boston.data[0].reshape(1,-1))"
   ]
  },
  {
   "cell_type": "code",
   "execution_count": null,
   "id": "6149fd91",
   "metadata": {},
   "outputs": [],
   "source": [
    "model1.predict(scaler.transform(boston.data[0].reshape(1,-1)))"
   ]
  },
  {
   "cell_type": "markdown",
   "id": "d8f099fb",
   "metadata": {},
   "source": [
    "## Pickling the Model file for Deployment"
   ]
  },
  {
   "cell_type": "code",
   "execution_count": null,
   "id": "fd44a90a",
   "metadata": {},
   "outputs": [],
   "source": [
    "import pickle"
   ]
  },
  {
   "cell_type": "code",
   "execution_count": null,
   "id": "f45bfe84",
   "metadata": {},
   "outputs": [],
   "source": [
    "pickle.dump(model1,open('model1.pkl','wb'))"
   ]
  },
  {
   "cell_type": "code",
   "execution_count": null,
   "id": "8ac1278c",
   "metadata": {},
   "outputs": [],
   "source": [
    "pickled_model=pickle.load(open('model1.pkl','rb'))"
   ]
  },
  {
   "cell_type": "code",
   "execution_count": null,
   "id": "825b94e1",
   "metadata": {},
   "outputs": [],
   "source": [
    "## prediction\n",
    "pickled_model.predict(scaler.transform(boston.data[0].reshape(1,-1)))"
   ]
  },
  {
   "cell_type": "markdown",
   "id": "8636ee19",
   "metadata": {},
   "source": [
    "## Random Forest"
   ]
  },
  {
   "cell_type": "code",
   "execution_count": null,
   "id": "7bc69400",
   "metadata": {},
   "outputs": [],
   "source": [
    "from sklearn.ensemble import RandomForestRegressor"
   ]
  },
  {
   "cell_type": "code",
   "execution_count": null,
   "id": "a0362c2f",
   "metadata": {},
   "outputs": [],
   "source": [
    "model2 = RandomForestRegressor(n_estimators=20)"
   ]
  },
  {
   "cell_type": "code",
   "execution_count": null,
   "id": "f6f6894b",
   "metadata": {},
   "outputs": [],
   "source": [
    "model2.fit(x_train,y_train)"
   ]
  },
  {
   "cell_type": "code",
   "execution_count": null,
   "id": "09803132",
   "metadata": {},
   "outputs": [],
   "source": [
    "model2.score(x_test,y_test)"
   ]
  },
  {
   "cell_type": "code",
   "execution_count": null,
   "id": "92099b9f",
   "metadata": {},
   "outputs": [],
   "source": [
    "y_pred2 = model2.predict(x_test)"
   ]
  },
  {
   "cell_type": "code",
   "execution_count": null,
   "id": "6641a787",
   "metadata": {},
   "outputs": [],
   "source": [
    "y_pred2"
   ]
  },
  {
   "cell_type": "code",
   "execution_count": null,
   "id": "d09026bb",
   "metadata": {},
   "outputs": [],
   "source": [
    "plt.scatter(y_test,y_pred)\n",
    "plt.xlabel(\"actual\")\n",
    "plt.ylabel(\"predicted\")"
   ]
  },
  {
   "cell_type": "code",
   "execution_count": null,
   "id": "15cc659c",
   "metadata": {},
   "outputs": [],
   "source": [
    "residuals2 = y_test-y_pred"
   ]
  },
  {
   "cell_type": "code",
   "execution_count": null,
   "id": "ceb1e0bb",
   "metadata": {},
   "outputs": [],
   "source": [
    "residuals2"
   ]
  },
  {
   "cell_type": "code",
   "execution_count": null,
   "id": "c181e575",
   "metadata": {},
   "outputs": [],
   "source": [
    "sns.displot(residuals2, kind = 'kde')"
   ]
  },
  {
   "cell_type": "code",
   "execution_count": null,
   "id": "0e46161d",
   "metadata": {},
   "outputs": [],
   "source": [
    "# scatter plot wrt prediction and residuals\n",
    "plt.scatter(y_pred2, residuals)"
   ]
  },
  {
   "cell_type": "code",
   "execution_count": null,
   "id": "bbe6784a",
   "metadata": {},
   "outputs": [],
   "source": [
    "# accuracy\n",
    "print(\"Random Forest\")\n",
    "print('MSE : ',(mean_squared_error(y_test, y_pred2)))\n",
    "print('MAE : ',(mean_absolute_error(y_test,y_pred2)))\n",
    "print('MSE SQRT : ',(np.sqrt(mean_squared_error(y_test,y_pred2))))\n",
    "\n",
    "print('\\nLinear Regression')\n",
    "print('MSE : ',(mean_squared_error(y_test, y_pred)))\n",
    "print('MAE : ',(mean_absolute_error(y_test,y_pred)))\n",
    "print('MSE SQRT : ',(np.sqrt(mean_squared_error(y_test,y_pred))))"
   ]
  },
  {
   "cell_type": "code",
   "execution_count": null,
   "id": "38775c16",
   "metadata": {},
   "outputs": [],
   "source": [
    "score2 = r2_score(y_test,y_pred2)*100\n",
    "score2"
   ]
  },
  {
   "cell_type": "markdown",
   "id": "f999b9d7",
   "metadata": {},
   "source": [
    "## new data prediction"
   ]
  },
  {
   "cell_type": "code",
   "execution_count": null,
   "id": "226ff4a4",
   "metadata": {},
   "outputs": [],
   "source": [
    "model2.predict(scaler.transform(boston.data[0].reshape(1,-1)))"
   ]
  },
  {
   "cell_type": "code",
   "execution_count": null,
   "id": "2aab8670",
   "metadata": {},
   "outputs": [],
   "source": []
  }
 ],
 "metadata": {
  "kernelspec": {
   "display_name": "Python 3",
   "language": "python",
   "name": "python3"
  },
  "language_info": {
   "codemirror_mode": {
    "name": "ipython",
    "version": 3
   },
   "file_extension": ".py",
   "mimetype": "text/x-python",
   "name": "python",
   "nbconvert_exporter": "python",
   "pygments_lexer": "ipython3",
   "version": "3.7.16"
  }
 },
 "nbformat": 4,
 "nbformat_minor": 5
}
